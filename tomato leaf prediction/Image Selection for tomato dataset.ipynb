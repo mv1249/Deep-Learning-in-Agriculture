{
 "cells": [
  {
   "cell_type": "code",
   "execution_count": 1,
   "metadata": {},
   "outputs": [],
   "source": [
    "import os\n",
    "import random\n",
    "from random import shuffle\n",
    "import shutil\n",
    "from glob import glob\n",
    "import numpy as np"
   ]
  },
  {
   "cell_type": "code",
   "execution_count": 2,
   "metadata": {},
   "outputs": [],
   "source": [
    "os.mkdir('TrainingData')\n",
    "os.mkdir('TestingData')"
   ]
  },
  {
   "cell_type": "code",
   "execution_count": 3,
   "metadata": {
    "collapsed": true
   },
   "outputs": [
    {
     "data": {
      "text/plain": [
       "['valid\\\\Tomato___Bacterial_spot',\n",
       " 'valid\\\\Tomato___Early_blight',\n",
       " 'valid\\\\Tomato___healthy',\n",
       " 'valid\\\\Tomato___Late_blight',\n",
       " 'valid\\\\Tomato___Leaf_Mold',\n",
       " 'valid\\\\Tomato___Septoria_leaf_spot',\n",
       " 'valid\\\\Tomato___Spider_mites Two-spotted_spider_mite',\n",
       " 'valid\\\\Tomato___Target_Spot',\n",
       " 'valid\\\\Tomato___Tomato_mosaic_virus',\n",
       " 'valid\\\\Tomato___Tomato_Yellow_Leaf_Curl_Virus']"
      ]
     },
     "execution_count": 3,
     "metadata": {},
     "output_type": "execute_result"
    }
   ],
   "source": [
    "train_labels = [x for x in glob('train/*')]\n",
    "valid_labels = [x for x in glob('valid/*')]\n",
    "valid_labels"
   ]
  },
  {
   "cell_type": "code",
   "execution_count": 5,
   "metadata": {},
   "outputs": [],
   "source": [
    "train_labels_use = os.listdir('train')\n",
    "valid_labels_use = os.listdir('valid')"
   ]
  },
  {
   "cell_type": "code",
   "execution_count": 6,
   "metadata": {
    "collapsed": true
   },
   "outputs": [
    {
     "data": {
      "text/plain": [
       "['Tomato___Bacterial_spot',\n",
       " 'Tomato___Early_blight',\n",
       " 'Tomato___healthy',\n",
       " 'Tomato___Late_blight',\n",
       " 'Tomato___Leaf_Mold',\n",
       " 'Tomato___Septoria_leaf_spot',\n",
       " 'Tomato___Spider_mites Two-spotted_spider_mite',\n",
       " 'Tomato___Target_Spot',\n",
       " 'Tomato___Tomato_mosaic_virus',\n",
       " 'Tomato___Tomato_Yellow_Leaf_Curl_Virus']"
      ]
     },
     "execution_count": 6,
     "metadata": {},
     "output_type": "execute_result"
    }
   ],
   "source": [
    "valid_labels_use"
   ]
  },
  {
   "cell_type": "code",
   "execution_count": 7,
   "metadata": {},
   "outputs": [],
   "source": [
    "for i in train_labels_use:\n",
    "    os.mkdir('TrainingData\\\\'+str(i))"
   ]
  },
  {
   "cell_type": "code",
   "execution_count": 9,
   "metadata": {},
   "outputs": [],
   "source": [
    "for i in valid_labels_use:\n",
    "    os.mkdir('TestingData\\\\'+str(i))"
   ]
  },
  {
   "cell_type": "code",
   "execution_count": 10,
   "metadata": {},
   "outputs": [
    {
     "data": {
      "text/plain": [
       "['valid\\\\Tomato___Bacterial_spot',\n",
       " 'valid\\\\Tomato___Early_blight',\n",
       " 'valid\\\\Tomato___healthy',\n",
       " 'valid\\\\Tomato___Late_blight',\n",
       " 'valid\\\\Tomato___Leaf_Mold',\n",
       " 'valid\\\\Tomato___Septoria_leaf_spot',\n",
       " 'valid\\\\Tomato___Spider_mites Two-spotted_spider_mite',\n",
       " 'valid\\\\Tomato___Target_Spot',\n",
       " 'valid\\\\Tomato___Tomato_mosaic_virus',\n",
       " 'valid\\\\Tomato___Tomato_Yellow_Leaf_Curl_Virus']"
      ]
     },
     "execution_count": 10,
     "metadata": {},
     "output_type": "execute_result"
    }
   ],
   "source": [
    "prev_train_label = [x for x in glob('train/*')]\n",
    "prev_valid_label  = [x for x in glob('valid/*')]\n",
    "prev_valid_label"
   ]
  },
  {
   "cell_type": "code",
   "execution_count": 12,
   "metadata": {},
   "outputs": [
    {
     "name": "stdout",
     "output_type": "stream",
     "text": [
      " length of Training Data labels is <10>\n",
      "\n",
      " length of Valid Data Labels is <10>\n"
     ]
    }
   ],
   "source": [
    "print(f' length of Training Data labels is <{len(prev_train_label)}>\\n\\n length of Valid Data Labels is <{len(prev_valid_label)}>')"
   ]
  },
  {
   "cell_type": "code",
   "execution_count": 13,
   "metadata": {},
   "outputs": [],
   "source": [
    "curr_train_labels = [x for x in glob('TrainingData/*')]\n",
    "curr_valid_labels = [x for x in glob('TestingData/*')]"
   ]
  },
  {
   "cell_type": "code",
   "execution_count": 15,
   "metadata": {},
   "outputs": [
    {
     "data": {
      "text/plain": [
       "['Tomato___Bacterial_spot',\n",
       " 'Tomato___Early_blight',\n",
       " 'Tomato___healthy',\n",
       " 'Tomato___Late_blight',\n",
       " 'Tomato___Leaf_Mold',\n",
       " 'Tomato___Septoria_leaf_spot',\n",
       " 'Tomato___Spider_mites Two-spotted_spider_mite',\n",
       " 'Tomato___Target_Spot',\n",
       " 'Tomato___Tomato_mosaic_virus',\n",
       " 'Tomato___Tomato_Yellow_Leaf_Curl_Virus']"
      ]
     },
     "execution_count": 15,
     "metadata": {},
     "output_type": "execute_result"
    }
   ],
   "source": [
    "valid_labels_use"
   ]
  },
  {
   "cell_type": "code",
   "execution_count": 18,
   "metadata": {},
   "outputs": [],
   "source": [
    "Tomato___Bacterial_spot = []\n",
    "Tomato___Early_blight = []\n",
    "Tomato___healthy = []\n",
    "Tomato___Late_blight = []\n",
    "Tomato___Leaf_Mold = []\n",
    "Tomato___Septoria_leaf_spot = []\n",
    "Tomato___Spider_mites_Two_spotted_spider_mite = []\n",
    "Tomato___Target_Spot = []\n",
    "Tomato___Tomato_mosaic_virus = []\n",
    "Tomato___Tomato_Yellow_Leaf_Curl_Virus = []\n",
    "\n",
    "#resized list\n",
    "Tomato___Bacterial_spot_resized = []\n",
    "Tomato___Early_blight_resized = []\n",
    "Tomato___healthy_resized = []\n",
    "Tomato___Late_blight_resized = []\n",
    "Tomato___Leaf_Mold_resized = []\n",
    "Tomato___Septoria_leaf_spot_resized = []\n",
    "Tomato___Spider_mites_Two_spotted_spider_mite_resized = []\n",
    "Tomato___Target_Spot_resized = []\n",
    "Tomato___Tomato_mosaic_virus_resized = []\n",
    "Tomato___Tomato_Yellow_Leaf_Curl_Virus_resized = []"
   ]
  },
  {
   "cell_type": "code",
   "execution_count": 19,
   "metadata": {},
   "outputs": [],
   "source": [
    "from PIL import Image\n",
    "from resizeimage import resizeimage"
   ]
  },
  {
   "cell_type": "code",
   "execution_count": 22,
   "metadata": {},
   "outputs": [],
   "source": [
    "for i in train_labels_use:\n",
    "    os.mkdir('train_set\\\\'+str(i))"
   ]
  },
  {
   "cell_type": "code",
   "execution_count": 23,
   "metadata": {},
   "outputs": [],
   "source": [
    "for i in train_labels_use:\n",
    "    os.mkdir('valid_set\\\\'+str(i))"
   ]
  },
  {
   "cell_type": "code",
   "execution_count": 24,
   "metadata": {},
   "outputs": [],
   "source": [
    "def imageselections(s_path,dest_path):\n",
    "    source_path = s_path\n",
    "    destination_path = dest_path\n",
    "    img = os.listdir(source_path)\n",
    "    random.shuffle(img)\n",
    "    for i in range(0,100):\n",
    "        image = img[i]\n",
    "        img_path = os.path.join(source_path,image)\n",
    "        desti_path = os.path.join(destination_path,image)\n",
    "        shutil.copy2(img_path,desti_path)"
   ]
  },
  {
   "cell_type": "code",
   "execution_count": 25,
   "metadata": {},
   "outputs": [],
   "source": [
    "imageselections('train/Tomato___Bacterial_spot/','train_set/Tomato___Bacterial_spot/')"
   ]
  },
  {
   "cell_type": "code",
   "execution_count": 31,
   "metadata": {},
   "outputs": [
    {
     "data": {
      "text/plain": [
       "['train_set/Tomato___Bacterial_spot',\n",
       " 'train_set/Tomato___Early_blight',\n",
       " 'train_set/Tomato___healthy',\n",
       " 'train_set/Tomato___Late_blight',\n",
       " 'train_set/Tomato___Leaf_Mold',\n",
       " 'train_set/Tomato___Septoria_leaf_spot',\n",
       " 'train_set/Tomato___Spider_mites Two-spotted_spider_mite',\n",
       " 'train_set/Tomato___Target_Spot',\n",
       " 'train_set/Tomato___Tomato_mosaic_virus',\n",
       " 'train_set/Tomato___Tomato_Yellow_Leaf_Curl_Virus']"
      ]
     },
     "execution_count": 31,
     "metadata": {},
     "output_type": "execute_result"
    }
   ],
   "source": [
    "train_names = ['train/'+i for i in os.listdir('train')]\n",
    "test_names = ['valid/'+i for i in os.listdir('valid')]\n",
    "train_new_names = ['train_set/'+i for i in os.listdir('train_set')]\n",
    "test_new_names = ['valid_set/'+i for i in os.listdir('valid_set')]\n",
    "train_new_names"
   ]
  },
  {
   "cell_type": "code",
   "execution_count": 32,
   "metadata": {},
   "outputs": [
    {
     "data": {
      "text/plain": [
       "['train_set/Tomato___Early_blight',\n",
       " 'train_set/Tomato___healthy',\n",
       " 'train_set/Tomato___Late_blight',\n",
       " 'train_set/Tomato___Leaf_Mold',\n",
       " 'train_set/Tomato___Septoria_leaf_spot',\n",
       " 'train_set/Tomato___Spider_mites Two-spotted_spider_mite',\n",
       " 'train_set/Tomato___Target_Spot',\n",
       " 'train_set/Tomato___Tomato_mosaic_virus',\n",
       " 'train_set/Tomato___Tomato_Yellow_Leaf_Curl_Virus']"
      ]
     },
     "execution_count": 32,
     "metadata": {},
     "output_type": "execute_result"
    }
   ],
   "source": [
    "train_new_names = train_new_names[1:]\n",
    "train_new_names"
   ]
  },
  {
   "cell_type": "code",
   "execution_count": 34,
   "metadata": {},
   "outputs": [
    {
     "data": {
      "text/plain": [
       "['train/Tomato___Early_blight',\n",
       " 'train/Tomato___healthy',\n",
       " 'train/Tomato___Late_blight',\n",
       " 'train/Tomato___Leaf_Mold',\n",
       " 'train/Tomato___Septoria_leaf_spot',\n",
       " 'train/Tomato___Spider_mites Two-spotted_spider_mite',\n",
       " 'train/Tomato___Target_Spot',\n",
       " 'train/Tomato___Tomato_mosaic_virus',\n",
       " 'train/Tomato___Tomato_Yellow_Leaf_Curl_Virus']"
      ]
     },
     "execution_count": 34,
     "metadata": {},
     "output_type": "execute_result"
    }
   ],
   "source": [
    "train_names = train_names[1:]\n",
    "train_names"
   ]
  },
  {
   "cell_type": "code",
   "execution_count": 33,
   "metadata": {},
   "outputs": [],
   "source": [
    "def shufflelists(list1,list2):\n",
    "    for i,j in zip(list1,list2):\n",
    "        imageselections(i,j)"
   ]
  },
  {
   "cell_type": "code",
   "execution_count": 35,
   "metadata": {},
   "outputs": [],
   "source": [
    "shufflelists(train_names,train_new_names)"
   ]
  },
  {
   "cell_type": "code",
   "execution_count": 36,
   "metadata": {},
   "outputs": [],
   "source": [
    "shufflelists(test_names,test_new_names)"
   ]
  },
  {
   "cell_type": "code",
   "execution_count": 60,
   "metadata": {},
   "outputs": [
    {
     "data": {
      "text/plain": [
       "['valid_set/Tomato___Bacterial_spot',\n",
       " 'valid_set/Tomato___Early_blight',\n",
       " 'valid_set/Tomato___healthy',\n",
       " 'valid_set/Tomato___Late_blight',\n",
       " 'valid_set/Tomato___Leaf_Mold',\n",
       " 'valid_set/Tomato___Septoria_leaf_spot',\n",
       " 'valid_set/Tomato___Spider_mites Two-spotted_spider_mite',\n",
       " 'valid_set/Tomato___Target_Spot',\n",
       " 'valid_set/Tomato___Tomato_mosaic_virus',\n",
       " 'valid_set/Tomato___Tomato_Yellow_Leaf_Curl_Virus']"
      ]
     },
     "execution_count": 60,
     "metadata": {},
     "output_type": "execute_result"
    }
   ],
   "source": [
    "test_names"
   ]
  },
  {
   "cell_type": "code",
   "execution_count": 61,
   "metadata": {},
   "outputs": [
    {
     "data": {
      "text/plain": [
       "['valid_set/Tomato___Bacterial_spot',\n",
       " 'valid_set/Tomato___Early_blight',\n",
       " 'valid_set/Tomato___healthy',\n",
       " 'valid_set/Tomato___Late_blight',\n",
       " 'valid_set/Tomato___Leaf_Mold',\n",
       " 'valid_set/Tomato___Septoria_leaf_spot',\n",
       " 'valid_set/Tomato___Spider_mites Two-spotted_spider_mite',\n",
       " 'valid_set/Tomato___Target_Spot',\n",
       " 'valid_set/Tomato___Tomato_mosaic_virus',\n",
       " 'valid_set/Tomato___Tomato_Yellow_Leaf_Curl_Virus']"
      ]
     },
     "execution_count": 61,
     "metadata": {},
     "output_type": "execute_result"
    }
   ],
   "source": [
    "test_new_names"
   ]
  },
  {
   "cell_type": "markdown",
   "metadata": {},
   "source": [
    "### Preprocessing the data"
   ]
  },
  {
   "cell_type": "code",
   "execution_count": 40,
   "metadata": {
    "collapsed": true
   },
   "outputs": [
    {
     "data": {
      "text/plain": [
       "['TrainingData/Tomato___Bacterial_spot',\n",
       " 'TrainingData/Tomato___Early_blight',\n",
       " 'TrainingData/Tomato___healthy',\n",
       " 'TrainingData/Tomato___Late_blight',\n",
       " 'TrainingData/Tomato___Leaf_Mold',\n",
       " 'TrainingData/Tomato___Septoria_leaf_spot',\n",
       " 'TrainingData/Tomato___Spider_mites Two-spotted_spider_mite',\n",
       " 'TrainingData/Tomato___Target_Spot',\n",
       " 'TrainingData/Tomato___Tomato_mosaic_virus',\n",
       " 'TrainingData/Tomato___Tomato_Yellow_Leaf_Curl_Virus']"
      ]
     },
     "execution_count": 40,
     "metadata": {},
     "output_type": "execute_result"
    }
   ],
   "source": [
    "train_img_resize = ['train_set/'+i for i in os.listdir('train_set')]\n",
    "test_img_resize = ['valid_set/'+i for i in os.listdir('valid_set')]\n",
    "train__img_new_resize = ['TrainingData/'+i for i in os.listdir('TrainingData')]\n",
    "test__img_new_resize = ['TestingData/'+i for i in os.listdir('TestingData')]\n",
    "train__img_new_resize"
   ]
  },
  {
   "cell_type": "code",
   "execution_count": 38,
   "metadata": {},
   "outputs": [],
   "source": [
    "def addstar(list1):\n",
    "    update_list = []\n",
    "    for i in list1:\n",
    "        update_list.append(i+'/*')\n",
    "    return update_list"
   ]
  },
  {
   "cell_type": "code",
   "execution_count": 41,
   "metadata": {},
   "outputs": [],
   "source": [
    "train_img_resize = addstar(train_img_resize)\n",
    "test_img_resize = addstar(test_img_resize)\n",
    "train__img_new_resize = addstar(train__img_new_resize)\n",
    "test__img_new_resize = addstar(test__img_new_resize)"
   ]
  },
  {
   "cell_type": "code",
   "execution_count": 42,
   "metadata": {},
   "outputs": [
    {
     "data": {
      "text/plain": [
       "['TestingData/Tomato___Bacterial_spot/*',\n",
       " 'TestingData/Tomato___Early_blight/*',\n",
       " 'TestingData/Tomato___healthy/*',\n",
       " 'TestingData/Tomato___Late_blight/*',\n",
       " 'TestingData/Tomato___Leaf_Mold/*',\n",
       " 'TestingData/Tomato___Septoria_leaf_spot/*',\n",
       " 'TestingData/Tomato___Spider_mites Two-spotted_spider_mite/*',\n",
       " 'TestingData/Tomato___Target_Spot/*',\n",
       " 'TestingData/Tomato___Tomato_mosaic_virus/*',\n",
       " 'TestingData/Tomato___Tomato_Yellow_Leaf_Curl_Virus/*']"
      ]
     },
     "execution_count": 42,
     "metadata": {},
     "output_type": "execute_result"
    }
   ],
   "source": [
    "test__img_new_resize"
   ]
  },
  {
   "cell_type": "code",
   "execution_count": 44,
   "metadata": {},
   "outputs": [
    {
     "data": {
      "text/plain": [
       "['train_set/Tomato___Bacterial_spot/*',\n",
       " 'train_set/Tomato___Early_blight/*',\n",
       " 'train_set/Tomato___healthy/*',\n",
       " 'train_set/Tomato___Late_blight/*',\n",
       " 'train_set/Tomato___Leaf_Mold/*',\n",
       " 'train_set/Tomato___Septoria_leaf_spot/*',\n",
       " 'train_set/Tomato___Spider_mites Two-spotted_spider_mite/*',\n",
       " 'train_set/Tomato___Target_Spot/*',\n",
       " 'train_set/Tomato___Tomato_mosaic_virus/*',\n",
       " 'train_set/Tomato___Tomato_Yellow_Leaf_Curl_Virus/*']"
      ]
     },
     "execution_count": 44,
     "metadata": {},
     "output_type": "execute_result"
    }
   ],
   "source": [
    "train_img_resize"
   ]
  },
  {
   "cell_type": "code",
   "execution_count": 43,
   "metadata": {},
   "outputs": [],
   "source": [
    "def preproess_1(i):\n",
    "    name_list = []\n",
    "    for j in glob(i):\n",
    "        img = Image.open(j)\n",
    "        name_list.append(img)\n",
    "    return name_list\n"
   ]
  },
  {
   "cell_type": "code",
   "execution_count": 46,
   "metadata": {
    "collapsed": true
   },
   "outputs": [
    {
     "data": {
      "text/plain": [
       "[<PIL.JpegImagePlugin.JpegImageFile image mode=RGB size=256x256 at 0x1AE2AF8C0C8>,\n",
       " <PIL.JpegImagePlugin.JpegImageFile image mode=RGB size=256x256 at 0x1AE2AF8C388>,\n",
       " <PIL.JpegImagePlugin.JpegImageFile image mode=RGB size=256x256 at 0x1AE2AF8C648>,\n",
       " <PIL.JpegImagePlugin.JpegImageFile image mode=RGB size=256x256 at 0x1AE2AF8C148>,\n",
       " <PIL.JpegImagePlugin.JpegImageFile image mode=RGB size=256x256 at 0x1AE2B0E1CC8>,\n",
       " <PIL.JpegImagePlugin.JpegImageFile image mode=RGB size=256x256 at 0x1AE2B0DED48>,\n",
       " <PIL.JpegImagePlugin.JpegImageFile image mode=RGB size=256x256 at 0x1AE2B0DE208>,\n",
       " <PIL.JpegImagePlugin.JpegImageFile image mode=RGB size=256x256 at 0x1AE2B0DEAC8>,\n",
       " <PIL.JpegImagePlugin.JpegImageFile image mode=RGB size=256x256 at 0x1AE2B0DE508>,\n",
       " <PIL.JpegImagePlugin.JpegImageFile image mode=RGB size=256x256 at 0x1AE2B0E1388>,\n",
       " <PIL.JpegImagePlugin.JpegImageFile image mode=RGB size=256x256 at 0x1AE2B0DC888>,\n",
       " <PIL.JpegImagePlugin.JpegImageFile image mode=RGB size=256x256 at 0x1AE2B0DC648>,\n",
       " <PIL.JpegImagePlugin.JpegImageFile image mode=RGB size=256x256 at 0x1AE2B0DC2C8>,\n",
       " <PIL.JpegImagePlugin.JpegImageFile image mode=RGB size=256x256 at 0x1AE2B0DC448>,\n",
       " <PIL.JpegImagePlugin.JpegImageFile image mode=RGB size=256x256 at 0x1AE2B0DCFC8>,\n",
       " <PIL.JpegImagePlugin.JpegImageFile image mode=RGB size=256x256 at 0x1AE2B0DC148>,\n",
       " <PIL.JpegImagePlugin.JpegImageFile image mode=RGB size=256x256 at 0x1AE2B09B948>,\n",
       " <PIL.JpegImagePlugin.JpegImageFile image mode=RGB size=256x256 at 0x1AE2AF32248>,\n",
       " <PIL.JpegImagePlugin.JpegImageFile image mode=RGB size=256x256 at 0x1AE29223408>,\n",
       " <PIL.JpegImagePlugin.JpegImageFile image mode=RGB size=256x256 at 0x1AE2B18B488>,\n",
       " <PIL.JpegImagePlugin.JpegImageFile image mode=RGB size=256x256 at 0x1AE2B1F7988>,\n",
       " <PIL.JpegImagePlugin.JpegImageFile image mode=RGB size=256x256 at 0x1AE2AFEF508>,\n",
       " <PIL.JpegImagePlugin.JpegImageFile image mode=RGB size=256x256 at 0x1AE2B24CA08>,\n",
       " <PIL.JpegImagePlugin.JpegImageFile image mode=RGB size=256x256 at 0x1AE2B300E88>,\n",
       " <PIL.JpegImagePlugin.JpegImageFile image mode=RGB size=256x256 at 0x1AE264AEF88>,\n",
       " <PIL.JpegImagePlugin.JpegImageFile image mode=RGB size=256x256 at 0x1AE2B2D9B88>,\n",
       " <PIL.JpegImagePlugin.JpegImageFile image mode=RGB size=256x256 at 0x1AE292BD088>,\n",
       " <PIL.JpegImagePlugin.JpegImageFile image mode=RGB size=256x256 at 0x1AE2B074608>,\n",
       " <PIL.JpegImagePlugin.JpegImageFile image mode=RGB size=256x256 at 0x1AE2B0B1148>,\n",
       " <PIL.JpegImagePlugin.JpegImageFile image mode=RGB size=256x256 at 0x1AE2B0B1108>,\n",
       " <PIL.JpegImagePlugin.JpegImageFile image mode=RGB size=256x256 at 0x1AE29562348>,\n",
       " <PIL.JpegImagePlugin.JpegImageFile image mode=RGB size=256x256 at 0x1AE2B0AD608>,\n",
       " <PIL.JpegImagePlugin.JpegImageFile image mode=RGB size=256x256 at 0x1AE2B118F48>,\n",
       " <PIL.JpegImagePlugin.JpegImageFile image mode=RGB size=256x256 at 0x1AE2952E408>,\n",
       " <PIL.JpegImagePlugin.JpegImageFile image mode=RGB size=256x256 at 0x1AE2B072A48>,\n",
       " <PIL.JpegImagePlugin.JpegImageFile image mode=RGB size=256x256 at 0x1AE29D07AC8>,\n",
       " <PIL.JpegImagePlugin.JpegImageFile image mode=RGB size=256x256 at 0x1AE2B125B88>,\n",
       " <PIL.JpegImagePlugin.JpegImageFile image mode=RGB size=256x256 at 0x1AE290E7FC8>,\n",
       " <PIL.JpegImagePlugin.JpegImageFile image mode=RGB size=256x256 at 0x1AE2B13F748>,\n",
       " <PIL.JpegImagePlugin.JpegImageFile image mode=RGB size=256x256 at 0x1AE2B151C48>,\n",
       " <PIL.JpegImagePlugin.JpegImageFile image mode=RGB size=256x256 at 0x1AE27776448>,\n",
       " <PIL.JpegImagePlugin.JpegImageFile image mode=RGB size=256x256 at 0x1AE2AF68E08>,\n",
       " <PIL.JpegImagePlugin.JpegImageFile image mode=RGB size=256x256 at 0x1AE2AF68688>,\n",
       " <PIL.JpegImagePlugin.JpegImageFile image mode=RGB size=256x256 at 0x1AE2AF68FC8>,\n",
       " <PIL.JpegImagePlugin.JpegImageFile image mode=RGB size=256x256 at 0x1AE2B105D08>,\n",
       " <PIL.JpegImagePlugin.JpegImageFile image mode=RGB size=256x256 at 0x1AE2B105248>,\n",
       " <PIL.JpegImagePlugin.JpegImageFile image mode=RGB size=256x256 at 0x1AE2B0C4D88>,\n",
       " <PIL.JpegImagePlugin.JpegImageFile image mode=RGB size=256x256 at 0x1AE2B2E3988>,\n",
       " <PIL.JpegImagePlugin.JpegImageFile image mode=RGB size=256x256 at 0x1AE2B2E6308>,\n",
       " <PIL.JpegImagePlugin.JpegImageFile image mode=RGB size=256x256 at 0x1AE2B1492C8>,\n",
       " <PIL.JpegImagePlugin.JpegImageFile image mode=RGB size=256x256 at 0x1AE2B147FC8>,\n",
       " <PIL.JpegImagePlugin.JpegImageFile image mode=RGB size=256x256 at 0x1AE2B147348>,\n",
       " <PIL.JpegImagePlugin.JpegImageFile image mode=RGB size=256x256 at 0x1AE2B22EE88>,\n",
       " <PIL.JpegImagePlugin.JpegImageFile image mode=RGB size=256x256 at 0x1AE2B232208>,\n",
       " <PIL.JpegImagePlugin.JpegImageFile image mode=RGB size=256x256 at 0x1AE2B244508>,\n",
       " <PIL.JpegImagePlugin.JpegImageFile image mode=RGB size=256x256 at 0x1AE2B2EE308>,\n",
       " <PIL.JpegImagePlugin.JpegImageFile image mode=RGB size=256x256 at 0x1AE2B0BDBC8>,\n",
       " <PIL.JpegImagePlugin.JpegImageFile image mode=RGB size=256x256 at 0x1AE2B0BD908>,\n",
       " <PIL.JpegImagePlugin.JpegImageFile image mode=RGB size=256x256 at 0x1AE2B391EC8>,\n",
       " <PIL.JpegImagePlugin.JpegImageFile image mode=RGB size=256x256 at 0x1AE2B223308>,\n",
       " <PIL.JpegImagePlugin.JpegImageFile image mode=RGB size=256x256 at 0x1AE2B21E588>,\n",
       " <PIL.JpegImagePlugin.JpegImageFile image mode=RGB size=256x256 at 0x1AE2B21EAC8>,\n",
       " <PIL.JpegImagePlugin.JpegImageFile image mode=RGB size=256x256 at 0x1AE2B39A0C8>,\n",
       " <PIL.JpegImagePlugin.JpegImageFile image mode=RGB size=256x256 at 0x1AE2B39AA08>,\n",
       " <PIL.JpegImagePlugin.JpegImageFile image mode=RGB size=256x256 at 0x1AE2B13B708>,\n",
       " <PIL.JpegImagePlugin.JpegImageFile image mode=RGB size=256x256 at 0x1AE2B22A048>,\n",
       " <PIL.JpegImagePlugin.JpegImageFile image mode=RGB size=256x256 at 0x1AE2B1A14C8>,\n",
       " <PIL.JpegImagePlugin.JpegImageFile image mode=RGB size=256x256 at 0x1AE2AF79C48>,\n",
       " <PIL.JpegImagePlugin.JpegImageFile image mode=RGB size=256x256 at 0x1AE2B38D688>,\n",
       " <PIL.JpegImagePlugin.JpegImageFile image mode=RGB size=256x256 at 0x1AE292148C8>,\n",
       " <PIL.JpegImagePlugin.JpegImageFile image mode=RGB size=256x256 at 0x1AE2B21B148>,\n",
       " <PIL.JpegImagePlugin.JpegImageFile image mode=RGB size=256x256 at 0x1AE2B1F24C8>,\n",
       " <PIL.JpegImagePlugin.JpegImageFile image mode=RGB size=256x256 at 0x1AE2B1B7508>,\n",
       " <PIL.JpegImagePlugin.JpegImageFile image mode=RGB size=256x256 at 0x1AE2B272688>,\n",
       " <PIL.JpegImagePlugin.JpegImageFile image mode=RGB size=256x256 at 0x1AE2B3A8AC8>,\n",
       " <PIL.JpegImagePlugin.JpegImageFile image mode=RGB size=256x256 at 0x1AE2B2ACB88>,\n",
       " <PIL.JpegImagePlugin.JpegImageFile image mode=RGB size=256x256 at 0x1AE2B309488>,\n",
       " <PIL.JpegImagePlugin.JpegImageFile image mode=RGB size=256x256 at 0x1AE29237748>,\n",
       " <PIL.JpegImagePlugin.JpegImageFile image mode=RGB size=256x256 at 0x1AE2B389088>,\n",
       " <PIL.JpegImagePlugin.JpegImageFile image mode=RGB size=256x256 at 0x1AE2B31BDC8>,\n",
       " <PIL.JpegImagePlugin.JpegImageFile image mode=RGB size=256x256 at 0x1AE2B30D888>,\n",
       " <PIL.JpegImagePlugin.JpegImageFile image mode=RGB size=256x256 at 0x1AE2B2C5E48>,\n",
       " <PIL.JpegImagePlugin.JpegImageFile image mode=RGB size=256x256 at 0x1AE2B397148>,\n",
       " <PIL.JpegImagePlugin.JpegImageFile image mode=RGB size=256x256 at 0x1AE2B19E148>,\n",
       " <PIL.JpegImagePlugin.JpegImageFile image mode=RGB size=256x256 at 0x1AE2B1FAC48>,\n",
       " <PIL.JpegImagePlugin.JpegImageFile image mode=RGB size=256x256 at 0x1AE2B1FA8C8>,\n",
       " <PIL.JpegImagePlugin.JpegImageFile image mode=RGB size=256x256 at 0x1AE2B207AC8>,\n",
       " <PIL.JpegImagePlugin.JpegImageFile image mode=RGB size=256x256 at 0x1AE2B310948>,\n",
       " <PIL.JpegImagePlugin.JpegImageFile image mode=RGB size=256x256 at 0x1AE2B2F3EC8>,\n",
       " <PIL.JpegImagePlugin.JpegImageFile image mode=RGB size=256x256 at 0x1AE2B2F3DC8>,\n",
       " <PIL.JpegImagePlugin.JpegImageFile image mode=RGB size=256x256 at 0x1AE2B2E0888>,\n",
       " <PIL.JpegImagePlugin.JpegImageFile image mode=RGB size=256x256 at 0x1AE2B287308>,\n",
       " <PIL.JpegImagePlugin.JpegImageFile image mode=RGB size=256x256 at 0x1AE2B10EB48>,\n",
       " <PIL.JpegImagePlugin.JpegImageFile image mode=RGB size=256x256 at 0x1AE2B0FDD88>,\n",
       " <PIL.JpegImagePlugin.JpegImageFile image mode=RGB size=256x256 at 0x1AE2B0FD588>,\n",
       " <PIL.JpegImagePlugin.JpegImageFile image mode=RGB size=256x256 at 0x1AE2B249348>,\n",
       " <PIL.JpegImagePlugin.JpegImageFile image mode=RGB size=256x256 at 0x1AE2B1B2B48>,\n",
       " <PIL.JpegImagePlugin.JpegImageFile image mode=RGB size=256x256 at 0x1AE2AFDC148>,\n",
       " <PIL.JpegImagePlugin.JpegImageFile image mode=RGB size=256x256 at 0x1AE2AFDCB48>,\n",
       " <PIL.JpegImagePlugin.JpegImageFile image mode=RGB size=256x256 at 0x1AE2AFD72C8>]"
      ]
     },
     "execution_count": 46,
     "metadata": {},
     "output_type": "execute_result"
    }
   ],
   "source": [
    "Tomato___Bacterial_spot = preproess_1('train_set/Tomato___Bacterial_spot/*')\n",
    "Tomato___Bacterial_spot"
   ]
  },
  {
   "cell_type": "code",
   "execution_count": 47,
   "metadata": {},
   "outputs": [],
   "source": [
    "Tomato___Early_blight = preproess_1('train_set/Tomato___Early_blight/*')\n",
    "Tomato___healthy = preproess_1('train_set/Tomato___healthy/*')\n",
    "Tomato___Late_blight = preproess_1('train_set/Tomato___Late_blight/*')\n",
    "Tomato___Leaf_Mold = preproess_1('train_set/Tomato___Leaf_Mold/*')\n",
    "Tomato___Septoria_leaf_spot = preproess_1('train_set/Tomato___Septoria_leaf_spot/*')\n",
    "Tomato___Spider_mites_Two_spotted_spider_mite =preproess_1('train_set/Tomato___Spider_mites Two-spotted_spider_mite/*')\n",
    "Tomato___Target_Spot = preproess_1('train_set/Tomato___Target_Spot/*')\n",
    "Tomato___Tomato_mosaic_virus = preproess_1('train_set/Tomato___Tomato_mosaic_virus/*')\n",
    "Tomato___Tomato_Yellow_Leaf_Curl_Virus = preproess_1('train_set/Tomato___Tomato_Yellow_Leaf_Curl_Virus/*')"
   ]
  },
  {
   "cell_type": "code",
   "execution_count": 50,
   "metadata": {},
   "outputs": [],
   "source": [
    "def resizeit(list1):\n",
    "    resized_list = []\n",
    "    for image in list1:\n",
    "        image = image.resize((224,224))\n",
    "        resized_list.append(image)\n",
    "    return resized_list"
   ]
  },
  {
   "cell_type": "code",
   "execution_count": 51,
   "metadata": {
    "collapsed": true
   },
   "outputs": [
    {
     "data": {
      "text/plain": [
       "[<PIL.Image.Image image mode=RGB size=224x224 at 0x1AE2B6F0208>,\n",
       " <PIL.Image.Image image mode=RGB size=224x224 at 0x1AE2B6EFC08>,\n",
       " <PIL.Image.Image image mode=RGB size=224x224 at 0x1AE2B706748>,\n",
       " <PIL.Image.Image image mode=RGB size=224x224 at 0x1AE2B706648>,\n",
       " <PIL.Image.Image image mode=RGB size=224x224 at 0x1AE2B706EC8>,\n",
       " <PIL.Image.Image image mode=RGB size=224x224 at 0x1AE2B706F48>,\n",
       " <PIL.Image.Image image mode=RGB size=224x224 at 0x1AE2B706B08>,\n",
       " <PIL.Image.Image image mode=RGB size=224x224 at 0x1AE2B706C48>,\n",
       " <PIL.Image.Image image mode=RGB size=224x224 at 0x1AE2B706E48>,\n",
       " <PIL.Image.Image image mode=RGB size=224x224 at 0x1AE2B706248>,\n",
       " <PIL.Image.Image image mode=RGB size=224x224 at 0x1AE2B706208>,\n",
       " <PIL.Image.Image image mode=RGB size=224x224 at 0x1AE2B706CC8>,\n",
       " <PIL.Image.Image image mode=RGB size=224x224 at 0x1AE2B706988>,\n",
       " <PIL.Image.Image image mode=RGB size=224x224 at 0x1AE2B1A5EC8>,\n",
       " <PIL.Image.Image image mode=RGB size=224x224 at 0x1AE2B71C708>,\n",
       " <PIL.Image.Image image mode=RGB size=224x224 at 0x1AE2B71CD08>,\n",
       " <PIL.Image.Image image mode=RGB size=224x224 at 0x1AE2B71C088>,\n",
       " <PIL.Image.Image image mode=RGB size=224x224 at 0x1AE2B71C188>,\n",
       " <PIL.Image.Image image mode=RGB size=224x224 at 0x1AE2B71CB08>,\n",
       " <PIL.Image.Image image mode=RGB size=224x224 at 0x1AE2B71CF88>,\n",
       " <PIL.Image.Image image mode=RGB size=224x224 at 0x1AE2B71CCC8>,\n",
       " <PIL.Image.Image image mode=RGB size=224x224 at 0x1AE2B71CF08>,\n",
       " <PIL.Image.Image image mode=RGB size=224x224 at 0x1AE2B71C588>,\n",
       " <PIL.Image.Image image mode=RGB size=224x224 at 0x1AE2B71CD48>,\n",
       " <PIL.Image.Image image mode=RGB size=224x224 at 0x1AE2B71CF48>,\n",
       " <PIL.Image.Image image mode=RGB size=224x224 at 0x1AE2B71CDC8>,\n",
       " <PIL.Image.Image image mode=RGB size=224x224 at 0x1AE2B71C508>,\n",
       " <PIL.Image.Image image mode=RGB size=224x224 at 0x1AE2B71C648>,\n",
       " <PIL.Image.Image image mode=RGB size=224x224 at 0x1AE2B71C3C8>,\n",
       " <PIL.Image.Image image mode=RGB size=224x224 at 0x1AE2B71C1C8>,\n",
       " <PIL.Image.Image image mode=RGB size=224x224 at 0x1AE2B71C348>,\n",
       " <PIL.Image.Image image mode=RGB size=224x224 at 0x1AE2B71C5C8>,\n",
       " <PIL.Image.Image image mode=RGB size=224x224 at 0x1AE2AFE47C8>,\n",
       " <PIL.Image.Image image mode=RGB size=224x224 at 0x1AE2B1B3288>,\n",
       " <PIL.Image.Image image mode=RGB size=224x224 at 0x1AE2B703108>,\n",
       " <PIL.Image.Image image mode=RGB size=224x224 at 0x1AE2B7036C8>,\n",
       " <PIL.Image.Image image mode=RGB size=224x224 at 0x1AE2B703548>,\n",
       " <PIL.Image.Image image mode=RGB size=224x224 at 0x1AE2B703588>,\n",
       " <PIL.Image.Image image mode=RGB size=224x224 at 0x1AE2B688C88>,\n",
       " <PIL.Image.Image image mode=RGB size=224x224 at 0x1AE2B688108>,\n",
       " <PIL.Image.Image image mode=RGB size=224x224 at 0x1AE2B688E08>,\n",
       " <PIL.Image.Image image mode=RGB size=224x224 at 0x1AE2B688B88>,\n",
       " <PIL.Image.Image image mode=RGB size=224x224 at 0x1AE2B688848>,\n",
       " <PIL.Image.Image image mode=RGB size=224x224 at 0x1AE2B6A0D88>,\n",
       " <PIL.Image.Image image mode=RGB size=224x224 at 0x1AE2B69B108>,\n",
       " <PIL.Image.Image image mode=RGB size=224x224 at 0x1AE2B69BC08>,\n",
       " <PIL.Image.Image image mode=RGB size=224x224 at 0x1AE2B69BAC8>,\n",
       " <PIL.Image.Image image mode=RGB size=224x224 at 0x1AE2B6A6FC8>,\n",
       " <PIL.Image.Image image mode=RGB size=224x224 at 0x1AE29290B48>,\n",
       " <PIL.Image.Image image mode=RGB size=224x224 at 0x1AE29D14208>,\n",
       " <PIL.Image.Image image mode=RGB size=224x224 at 0x1AE29D142C8>,\n",
       " <PIL.Image.Image image mode=RGB size=224x224 at 0x1AE2B684208>,\n",
       " <PIL.Image.Image image mode=RGB size=224x224 at 0x1AE2B6847C8>,\n",
       " <PIL.Image.Image image mode=RGB size=224x224 at 0x1AE2B684108>,\n",
       " <PIL.Image.Image image mode=RGB size=224x224 at 0x1AE2B684848>,\n",
       " <PIL.Image.Image image mode=RGB size=224x224 at 0x1AE2B684D48>,\n",
       " <PIL.Image.Image image mode=RGB size=224x224 at 0x1AE2B684B48>,\n",
       " <PIL.Image.Image image mode=RGB size=224x224 at 0x1AE2B684408>,\n",
       " <PIL.Image.Image image mode=RGB size=224x224 at 0x1AE2B726588>,\n",
       " <PIL.Image.Image image mode=RGB size=224x224 at 0x1AE2B726688>,\n",
       " <PIL.Image.Image image mode=RGB size=224x224 at 0x1AE2B7260C8>,\n",
       " <PIL.Image.Image image mode=RGB size=224x224 at 0x1AE2B726B48>,\n",
       " <PIL.Image.Image image mode=RGB size=224x224 at 0x1AE2AF308C8>,\n",
       " <PIL.Image.Image image mode=RGB size=224x224 at 0x1AE2AF30E08>,\n",
       " <PIL.Image.Image image mode=RGB size=224x224 at 0x1AE2B6ED788>,\n",
       " <PIL.Image.Image image mode=RGB size=224x224 at 0x1AE2B6ED988>,\n",
       " <PIL.Image.Image image mode=RGB size=224x224 at 0x1AE2B6EDCC8>,\n",
       " <PIL.Image.Image image mode=RGB size=224x224 at 0x1AE2B6EDD88>,\n",
       " <PIL.Image.Image image mode=RGB size=224x224 at 0x1AE2B6ED888>,\n",
       " <PIL.Image.Image image mode=RGB size=224x224 at 0x1AE2B6ED1C8>,\n",
       " <PIL.Image.Image image mode=RGB size=224x224 at 0x1AE2B6ED048>,\n",
       " <PIL.Image.Image image mode=RGB size=224x224 at 0x1AE2B6ED688>,\n",
       " <PIL.Image.Image image mode=RGB size=224x224 at 0x1AE2B64D108>,\n",
       " <PIL.Image.Image image mode=RGB size=224x224 at 0x1AE2B64DF48>,\n",
       " <PIL.Image.Image image mode=RGB size=224x224 at 0x1AE2B64DA08>,\n",
       " <PIL.Image.Image image mode=RGB size=224x224 at 0x1AE2B64FDC8>,\n",
       " <PIL.Image.Image image mode=RGB size=224x224 at 0x1AE2B6AD0C8>,\n",
       " <PIL.Image.Image image mode=RGB size=224x224 at 0x1AE2B6AD508>,\n",
       " <PIL.Image.Image image mode=RGB size=224x224 at 0x1AE2B6AD7C8>,\n",
       " <PIL.Image.Image image mode=RGB size=224x224 at 0x1AE2B717848>,\n",
       " <PIL.Image.Image image mode=RGB size=224x224 at 0x1AE2B717CC8>,\n",
       " <PIL.Image.Image image mode=RGB size=224x224 at 0x1AE2B717D08>,\n",
       " <PIL.Image.Image image mode=RGB size=224x224 at 0x1AE2B717988>,\n",
       " <PIL.Image.Image image mode=RGB size=224x224 at 0x1AE2B717208>,\n",
       " <PIL.Image.Image image mode=RGB size=224x224 at 0x1AE2B717348>,\n",
       " <PIL.Image.Image image mode=RGB size=224x224 at 0x1AE2B717A48>,\n",
       " <PIL.Image.Image image mode=RGB size=224x224 at 0x1AE2B717C48>,\n",
       " <PIL.Image.Image image mode=RGB size=224x224 at 0x1AE2B6A9908>,\n",
       " <PIL.Image.Image image mode=RGB size=224x224 at 0x1AE2B6A9208>,\n",
       " <PIL.Image.Image image mode=RGB size=224x224 at 0x1AE2B6A9E08>,\n",
       " <PIL.Image.Image image mode=RGB size=224x224 at 0x1AE2B6A9788>,\n",
       " <PIL.Image.Image image mode=RGB size=224x224 at 0x1AE2B6A9548>,\n",
       " <PIL.Image.Image image mode=RGB size=224x224 at 0x1AE2B656108>,\n",
       " <PIL.Image.Image image mode=RGB size=224x224 at 0x1AE2B656A88>,\n",
       " <PIL.Image.Image image mode=RGB size=224x224 at 0x1AE2B656908>,\n",
       " <PIL.Image.Image image mode=RGB size=224x224 at 0x1AE2B656548>,\n",
       " <PIL.Image.Image image mode=RGB size=224x224 at 0x1AE2B656788>,\n",
       " <PIL.Image.Image image mode=RGB size=224x224 at 0x1AE2B656B48>,\n",
       " <PIL.Image.Image image mode=RGB size=224x224 at 0x1AE2B656488>,\n",
       " <PIL.Image.Image image mode=RGB size=224x224 at 0x1AE2B6564C8>]"
      ]
     },
     "execution_count": 51,
     "metadata": {},
     "output_type": "execute_result"
    }
   ],
   "source": [
    "dummy = resizeit(Tomato___Bacterial_spot)\n",
    "dummy"
   ]
  },
  {
   "cell_type": "code",
   "execution_count": 52,
   "metadata": {},
   "outputs": [],
   "source": [
    "Tomato___Bacterial_spot_resized = resizeit(Tomato___Bacterial_spot)\n",
    "Tomato___Early_blight_resized = resizeit(Tomato___Early_blight)\n",
    "Tomato___healthy_resized = resizeit(Tomato___healthy)\n",
    "Tomato___Late_blight_resized = resizeit(Tomato___Late_blight)\n",
    "Tomato___Leaf_Mold_resized = resizeit(Tomato___Leaf_Mold)\n",
    "Tomato___Septoria_leaf_spot_resized = resizeit(Tomato___Septoria_leaf_spot)\n",
    "Tomato___Spider_mites_Two_spotted_spider_mite_resized = resizeit(Tomato___Spider_mites_Two_spotted_spider_mite)\n",
    "Tomato___Target_Spot_resized = resizeit(Tomato___Target_Spot)\n",
    "Tomato___Tomato_mosaic_virus_resized = resizeit(Tomato___Tomato_mosaic_virus)\n",
    "Tomato___Tomato_Yellow_Leaf_Curl_Virus_resized = resizeit(Tomato___Tomato_Yellow_Leaf_Curl_Virus)"
   ]
  },
  {
   "cell_type": "code",
   "execution_count": 55,
   "metadata": {
    "collapsed": true
   },
   "outputs": [
    {
     "name": "stdout",
     "output_type": "stream",
     "text": [
      "<PIL.Image.Image image mode=RGB size=224x224 at 0x1AE2B6F0208>\n",
      "<PIL.Image.Image image mode=RGB size=224x224 at 0x1AE2B6EFC08>\n",
      "<PIL.Image.Image image mode=RGB size=224x224 at 0x1AE2B706748>\n",
      "<PIL.Image.Image image mode=RGB size=224x224 at 0x1AE2B706648>\n",
      "<PIL.Image.Image image mode=RGB size=224x224 at 0x1AE2B706EC8>\n",
      "<PIL.Image.Image image mode=RGB size=224x224 at 0x1AE2B706F48>\n",
      "<PIL.Image.Image image mode=RGB size=224x224 at 0x1AE2B706B08>\n",
      "<PIL.Image.Image image mode=RGB size=224x224 at 0x1AE2B706C48>\n",
      "<PIL.Image.Image image mode=RGB size=224x224 at 0x1AE2B706E48>\n",
      "<PIL.Image.Image image mode=RGB size=224x224 at 0x1AE2B706248>\n",
      "<PIL.Image.Image image mode=RGB size=224x224 at 0x1AE2B706208>\n",
      "<PIL.Image.Image image mode=RGB size=224x224 at 0x1AE2B706CC8>\n",
      "<PIL.Image.Image image mode=RGB size=224x224 at 0x1AE2B706988>\n",
      "<PIL.Image.Image image mode=RGB size=224x224 at 0x1AE2B1A5EC8>\n",
      "<PIL.Image.Image image mode=RGB size=224x224 at 0x1AE2B71C708>\n",
      "<PIL.Image.Image image mode=RGB size=224x224 at 0x1AE2B71CD08>\n",
      "<PIL.Image.Image image mode=RGB size=224x224 at 0x1AE2B71C088>\n",
      "<PIL.Image.Image image mode=RGB size=224x224 at 0x1AE2B71C188>\n",
      "<PIL.Image.Image image mode=RGB size=224x224 at 0x1AE2B71CB08>\n",
      "<PIL.Image.Image image mode=RGB size=224x224 at 0x1AE2B71CF88>\n",
      "<PIL.Image.Image image mode=RGB size=224x224 at 0x1AE2B71CCC8>\n",
      "<PIL.Image.Image image mode=RGB size=224x224 at 0x1AE2B71CF08>\n",
      "<PIL.Image.Image image mode=RGB size=224x224 at 0x1AE2B71C588>\n",
      "<PIL.Image.Image image mode=RGB size=224x224 at 0x1AE2B71CD48>\n",
      "<PIL.Image.Image image mode=RGB size=224x224 at 0x1AE2B71CF48>\n",
      "<PIL.Image.Image image mode=RGB size=224x224 at 0x1AE2B71CDC8>\n",
      "<PIL.Image.Image image mode=RGB size=224x224 at 0x1AE2B71C508>\n",
      "<PIL.Image.Image image mode=RGB size=224x224 at 0x1AE2B71C648>\n",
      "<PIL.Image.Image image mode=RGB size=224x224 at 0x1AE2B71C3C8>\n",
      "<PIL.Image.Image image mode=RGB size=224x224 at 0x1AE2B71C1C8>\n",
      "<PIL.Image.Image image mode=RGB size=224x224 at 0x1AE2B71C348>\n",
      "<PIL.Image.Image image mode=RGB size=224x224 at 0x1AE2B71C5C8>\n",
      "<PIL.Image.Image image mode=RGB size=224x224 at 0x1AE2AFE47C8>\n",
      "<PIL.Image.Image image mode=RGB size=224x224 at 0x1AE2B1B3288>\n",
      "<PIL.Image.Image image mode=RGB size=224x224 at 0x1AE2B703108>\n",
      "<PIL.Image.Image image mode=RGB size=224x224 at 0x1AE2B7036C8>\n",
      "<PIL.Image.Image image mode=RGB size=224x224 at 0x1AE2B703548>\n",
      "<PIL.Image.Image image mode=RGB size=224x224 at 0x1AE2B703588>\n",
      "<PIL.Image.Image image mode=RGB size=224x224 at 0x1AE2B688C88>\n",
      "<PIL.Image.Image image mode=RGB size=224x224 at 0x1AE2B688108>\n",
      "<PIL.Image.Image image mode=RGB size=224x224 at 0x1AE2B688E08>\n",
      "<PIL.Image.Image image mode=RGB size=224x224 at 0x1AE2B688B88>\n",
      "<PIL.Image.Image image mode=RGB size=224x224 at 0x1AE2B688848>\n",
      "<PIL.Image.Image image mode=RGB size=224x224 at 0x1AE2B6A0D88>\n",
      "<PIL.Image.Image image mode=RGB size=224x224 at 0x1AE2B69B108>\n",
      "<PIL.Image.Image image mode=RGB size=224x224 at 0x1AE2B69BC08>\n",
      "<PIL.Image.Image image mode=RGB size=224x224 at 0x1AE2B69BAC8>\n",
      "<PIL.Image.Image image mode=RGB size=224x224 at 0x1AE2B6A6FC8>\n",
      "<PIL.Image.Image image mode=RGB size=224x224 at 0x1AE29290B48>\n",
      "<PIL.Image.Image image mode=RGB size=224x224 at 0x1AE29D14208>\n",
      "<PIL.Image.Image image mode=RGB size=224x224 at 0x1AE29D142C8>\n",
      "<PIL.Image.Image image mode=RGB size=224x224 at 0x1AE2B684208>\n",
      "<PIL.Image.Image image mode=RGB size=224x224 at 0x1AE2B6847C8>\n",
      "<PIL.Image.Image image mode=RGB size=224x224 at 0x1AE2B684108>\n",
      "<PIL.Image.Image image mode=RGB size=224x224 at 0x1AE2B684848>\n",
      "<PIL.Image.Image image mode=RGB size=224x224 at 0x1AE2B684D48>\n",
      "<PIL.Image.Image image mode=RGB size=224x224 at 0x1AE2B684B48>\n",
      "<PIL.Image.Image image mode=RGB size=224x224 at 0x1AE2B684408>\n",
      "<PIL.Image.Image image mode=RGB size=224x224 at 0x1AE2B726588>\n",
      "<PIL.Image.Image image mode=RGB size=224x224 at 0x1AE2B726688>\n",
      "<PIL.Image.Image image mode=RGB size=224x224 at 0x1AE2B7260C8>\n",
      "<PIL.Image.Image image mode=RGB size=224x224 at 0x1AE2B726B48>\n",
      "<PIL.Image.Image image mode=RGB size=224x224 at 0x1AE2AF308C8>\n",
      "<PIL.Image.Image image mode=RGB size=224x224 at 0x1AE2AF30E08>\n",
      "<PIL.Image.Image image mode=RGB size=224x224 at 0x1AE2B6ED788>\n",
      "<PIL.Image.Image image mode=RGB size=224x224 at 0x1AE2B6ED988>\n",
      "<PIL.Image.Image image mode=RGB size=224x224 at 0x1AE2B6EDCC8>\n",
      "<PIL.Image.Image image mode=RGB size=224x224 at 0x1AE2B6EDD88>\n",
      "<PIL.Image.Image image mode=RGB size=224x224 at 0x1AE2B6ED888>\n",
      "<PIL.Image.Image image mode=RGB size=224x224 at 0x1AE2B6ED1C8>\n",
      "<PIL.Image.Image image mode=RGB size=224x224 at 0x1AE2B6ED048>\n",
      "<PIL.Image.Image image mode=RGB size=224x224 at 0x1AE2B6ED688>\n",
      "<PIL.Image.Image image mode=RGB size=224x224 at 0x1AE2B64D108>\n",
      "<PIL.Image.Image image mode=RGB size=224x224 at 0x1AE2B64DF48>\n",
      "<PIL.Image.Image image mode=RGB size=224x224 at 0x1AE2B64DA08>\n",
      "<PIL.Image.Image image mode=RGB size=224x224 at 0x1AE2B64FDC8>\n",
      "<PIL.Image.Image image mode=RGB size=224x224 at 0x1AE2B6AD0C8>\n",
      "<PIL.Image.Image image mode=RGB size=224x224 at 0x1AE2B6AD508>\n",
      "<PIL.Image.Image image mode=RGB size=224x224 at 0x1AE2B6AD7C8>\n",
      "<PIL.Image.Image image mode=RGB size=224x224 at 0x1AE2B717848>\n",
      "<PIL.Image.Image image mode=RGB size=224x224 at 0x1AE2B717CC8>\n",
      "<PIL.Image.Image image mode=RGB size=224x224 at 0x1AE2B717D08>\n",
      "<PIL.Image.Image image mode=RGB size=224x224 at 0x1AE2B717988>\n",
      "<PIL.Image.Image image mode=RGB size=224x224 at 0x1AE2B717208>\n",
      "<PIL.Image.Image image mode=RGB size=224x224 at 0x1AE2B717348>\n",
      "<PIL.Image.Image image mode=RGB size=224x224 at 0x1AE2B717A48>\n",
      "<PIL.Image.Image image mode=RGB size=224x224 at 0x1AE2B717C48>\n",
      "<PIL.Image.Image image mode=RGB size=224x224 at 0x1AE2B6A9908>\n",
      "<PIL.Image.Image image mode=RGB size=224x224 at 0x1AE2B6A9208>\n",
      "<PIL.Image.Image image mode=RGB size=224x224 at 0x1AE2B6A9E08>\n",
      "<PIL.Image.Image image mode=RGB size=224x224 at 0x1AE2B6A9788>\n",
      "<PIL.Image.Image image mode=RGB size=224x224 at 0x1AE2B6A9548>\n",
      "<PIL.Image.Image image mode=RGB size=224x224 at 0x1AE2B656108>\n",
      "<PIL.Image.Image image mode=RGB size=224x224 at 0x1AE2B656A88>\n",
      "<PIL.Image.Image image mode=RGB size=224x224 at 0x1AE2B656908>\n",
      "<PIL.Image.Image image mode=RGB size=224x224 at 0x1AE2B656548>\n",
      "<PIL.Image.Image image mode=RGB size=224x224 at 0x1AE2B656788>\n",
      "<PIL.Image.Image image mode=RGB size=224x224 at 0x1AE2B656B48>\n",
      "<PIL.Image.Image image mode=RGB size=224x224 at 0x1AE2B656488>\n",
      "<PIL.Image.Image image mode=RGB size=224x224 at 0x1AE2B6564C8>\n"
     ]
    }
   ],
   "source": [
    "for (i,new) in enumerate(dummy):\n",
    "    print(new)"
   ]
  },
  {
   "cell_type": "code",
   "execution_count": 56,
   "metadata": {},
   "outputs": [],
   "source": [
    "def finalsave(list1,directory):\n",
    "    for (i,new) in enumerate(list1):\n",
    "        new.save('{}{}{}'.format(directory,i+1,'.png'))"
   ]
  },
  {
   "cell_type": "code",
   "execution_count": 57,
   "metadata": {},
   "outputs": [
    {
     "data": {
      "text/plain": [
       "['TrainingData/Tomato___Bacterial_spot/',\n",
       " 'TrainingData/Tomato___Early_blight/',\n",
       " 'TrainingData/Tomato___healthy/',\n",
       " 'TrainingData/Tomato___Late_blight/',\n",
       " 'TrainingData/Tomato___Leaf_Mold/',\n",
       " 'TrainingData/Tomato___Septoria_leaf_spot/',\n",
       " 'TrainingData/Tomato___Spider_mites Two-spotted_spider_mite/',\n",
       " 'TrainingData/Tomato___Target_Spot/',\n",
       " 'TrainingData/Tomato___Tomato_mosaic_virus/',\n",
       " 'TrainingData/Tomato___Tomato_Yellow_Leaf_Curl_Virus/']"
      ]
     },
     "execution_count": 57,
     "metadata": {},
     "output_type": "execute_result"
    }
   ],
   "source": [
    "train_img_resize = ['train_set/'+i+'/' for i in os.listdir('train_set')]\n",
    "test_img_resize = ['valid_set/'+i+'/' for i in os.listdir('valid_set')]\n",
    "train__img_new_resize = ['TrainingData/'+i+'/' for i in os.listdir('TrainingData')]\n",
    "test__img_new_resize = ['TestingData/'+i+'/' for i in os.listdir('TestingData')]\n",
    "train__img_new_resize"
   ]
  },
  {
   "cell_type": "code",
   "execution_count": 58,
   "metadata": {},
   "outputs": [],
   "source": [
    "resizetopass = [Tomato___Bacterial_spot_resized,\n",
    "Tomato___Early_blight_resized,\n",
    "Tomato___healthy_resized,\n",
    "Tomato___Late_blight_resized,\n",
    "Tomato___Leaf_Mold_resized,\n",
    "Tomato___Septoria_leaf_spot_resized,\n",
    "Tomato___Spider_mites_Two_spotted_spider_mite_resized,\n",
    "Tomato___Target_Spot_resized,\n",
    "Tomato___Tomato_mosaic_virus_resized,\n",
    "Tomato___Tomato_Yellow_Leaf_Curl_Virus_resized]"
   ]
  },
  {
   "cell_type": "code",
   "execution_count": 59,
   "metadata": {},
   "outputs": [],
   "source": [
    "for i,j in zip(resizetopass,train__img_new_resize):\n",
    "    finalsave(i,j)"
   ]
  },
  {
   "cell_type": "code",
   "execution_count": null,
   "metadata": {},
   "outputs": [],
   "source": []
  },
  {
   "cell_type": "markdown",
   "metadata": {},
   "source": [
    "## Testing data"
   ]
  },
  {
   "cell_type": "code",
   "execution_count": 62,
   "metadata": {},
   "outputs": [],
   "source": [
    "Tomato___Early_blight = preproess_1('valid_set/Tomato___Early_blight/*')\n",
    "Tomato___healthy = preproess_1('valid_set/Tomato___healthy/*')\n",
    "Tomato___Late_blight = preproess_1('valid_set/Tomato___Late_blight/*')\n",
    "Tomato___Leaf_Mold = preproess_1('valid_set/Tomato___Leaf_Mold/*')\n",
    "Tomato___Septoria_leaf_spot = preproess_1('valid_set/Tomato___Septoria_leaf_spot/*')\n",
    "Tomato___Spider_mites_Two_spotted_spider_mite =preproess_1('valid_set/Tomato___Spider_mites Two-spotted_spider_mite/*')\n",
    "Tomato___Target_Spot = preproess_1('valid_set/Tomato___Target_Spot/*')\n",
    "Tomato___Tomato_mosaic_virus = preproess_1('valid_set/Tomato___Tomato_mosaic_virus/*')\n",
    "Tomato___Tomato_Yellow_Leaf_Curl_Virus = preproess_1('valid_set/Tomato___Tomato_Yellow_Leaf_Curl_Virus/*')"
   ]
  },
  {
   "cell_type": "code",
   "execution_count": 63,
   "metadata": {
    "collapsed": true
   },
   "outputs": [
    {
     "data": {
      "text/plain": [
       "[<PIL.JpegImagePlugin.JpegImageFile image mode=RGB size=256x256 at 0x1AE493A2288>,\n",
       " <PIL.JpegImagePlugin.JpegImageFile image mode=RGB size=256x256 at 0x1AE493A2388>,\n",
       " <PIL.JpegImagePlugin.JpegImageFile image mode=RGB size=256x256 at 0x1AE493A2208>,\n",
       " <PIL.JpegImagePlugin.JpegImageFile image mode=RGB size=256x256 at 0x1AE493A2508>,\n",
       " <PIL.JpegImagePlugin.JpegImageFile image mode=RGB size=256x256 at 0x1AE493A2608>,\n",
       " <PIL.JpegImagePlugin.JpegImageFile image mode=RGB size=256x256 at 0x1AE493A2788>,\n",
       " <PIL.JpegImagePlugin.JpegImageFile image mode=RGB size=256x256 at 0x1AE493A29C8>,\n",
       " <PIL.JpegImagePlugin.JpegImageFile image mode=RGB size=256x256 at 0x1AE493A2C08>,\n",
       " <PIL.JpegImagePlugin.JpegImageFile image mode=RGB size=256x256 at 0x1AE493A2E48>,\n",
       " <PIL.JpegImagePlugin.JpegImageFile image mode=RGB size=256x256 at 0x1AE493AA148>,\n",
       " <PIL.JpegImagePlugin.JpegImageFile image mode=RGB size=256x256 at 0x1AE493AA488>,\n",
       " <PIL.JpegImagePlugin.JpegImageFile image mode=RGB size=256x256 at 0x1AE493AA7C8>,\n",
       " <PIL.JpegImagePlugin.JpegImageFile image mode=RGB size=256x256 at 0x1AE493AAB08>,\n",
       " <PIL.JpegImagePlugin.JpegImageFile image mode=RGB size=256x256 at 0x1AE493AAE48>,\n",
       " <PIL.JpegImagePlugin.JpegImageFile image mode=RGB size=256x256 at 0x1AE493AF1C8>,\n",
       " <PIL.JpegImagePlugin.JpegImageFile image mode=RGB size=256x256 at 0x1AE493AF508>,\n",
       " <PIL.JpegImagePlugin.JpegImageFile image mode=RGB size=256x256 at 0x1AE493AF848>,\n",
       " <PIL.JpegImagePlugin.JpegImageFile image mode=RGB size=256x256 at 0x1AE2B708AC8>,\n",
       " <PIL.JpegImagePlugin.JpegImageFile image mode=RGB size=256x256 at 0x1AE2B706F88>,\n",
       " <PIL.JpegImagePlugin.JpegImageFile image mode=RGB size=256x256 at 0x1AE2B703F88>,\n",
       " <PIL.JpegImagePlugin.JpegImageFile image mode=RGB size=256x256 at 0x1AE2B703188>,\n",
       " <PIL.JpegImagePlugin.JpegImageFile image mode=RGB size=256x256 at 0x1AE493AFB48>,\n",
       " <PIL.JpegImagePlugin.JpegImageFile image mode=RGB size=256x256 at 0x1AE493AFE88>,\n",
       " <PIL.JpegImagePlugin.JpegImageFile image mode=RGB size=256x256 at 0x1AE493B5208>,\n",
       " <PIL.JpegImagePlugin.JpegImageFile image mode=RGB size=256x256 at 0x1AE493B5548>,\n",
       " <PIL.JpegImagePlugin.JpegImageFile image mode=RGB size=256x256 at 0x1AE493B5888>,\n",
       " <PIL.JpegImagePlugin.JpegImageFile image mode=RGB size=256x256 at 0x1AE493B5BC8>,\n",
       " <PIL.JpegImagePlugin.JpegImageFile image mode=RGB size=256x256 at 0x1AE493B5F08>,\n",
       " <PIL.JpegImagePlugin.JpegImageFile image mode=RGB size=256x256 at 0x1AE493BA288>,\n",
       " <PIL.JpegImagePlugin.JpegImageFile image mode=RGB size=256x256 at 0x1AE493BA5C8>,\n",
       " <PIL.JpegImagePlugin.JpegImageFile image mode=RGB size=256x256 at 0x1AE493BA908>,\n",
       " <PIL.JpegImagePlugin.JpegImageFile image mode=RGB size=256x256 at 0x1AE493BAC48>,\n",
       " <PIL.JpegImagePlugin.JpegImageFile image mode=RGB size=256x256 at 0x1AE493BAF88>,\n",
       " <PIL.JpegImagePlugin.JpegImageFile image mode=RGB size=256x256 at 0x1AE493BE308>,\n",
       " <PIL.JpegImagePlugin.JpegImageFile image mode=RGB size=256x256 at 0x1AE493BE648>,\n",
       " <PIL.JpegImagePlugin.JpegImageFile image mode=RGB size=256x256 at 0x1AE493BE988>,\n",
       " <PIL.JpegImagePlugin.JpegImageFile image mode=RGB size=256x256 at 0x1AE493BECC8>,\n",
       " <PIL.JpegImagePlugin.JpegImageFile image mode=RGB size=256x256 at 0x1AE493C3048>,\n",
       " <PIL.JpegImagePlugin.JpegImageFile image mode=RGB size=256x256 at 0x1AE493C3388>,\n",
       " <PIL.JpegImagePlugin.JpegImageFile image mode=RGB size=256x256 at 0x1AE493C36C8>,\n",
       " <PIL.JpegImagePlugin.JpegImageFile image mode=RGB size=256x256 at 0x1AE493C3A08>,\n",
       " <PIL.JpegImagePlugin.JpegImageFile image mode=RGB size=256x256 at 0x1AE493C3D48>,\n",
       " <PIL.JpegImagePlugin.JpegImageFile image mode=RGB size=256x256 at 0x1AE493C90C8>,\n",
       " <PIL.JpegImagePlugin.JpegImageFile image mode=RGB size=256x256 at 0x1AE493C9408>,\n",
       " <PIL.JpegImagePlugin.JpegImageFile image mode=RGB size=256x256 at 0x1AE493C9748>,\n",
       " <PIL.JpegImagePlugin.JpegImageFile image mode=RGB size=256x256 at 0x1AE493C9A88>,\n",
       " <PIL.JpegImagePlugin.JpegImageFile image mode=RGB size=256x256 at 0x1AE493C9DC8>,\n",
       " <PIL.JpegImagePlugin.JpegImageFile image mode=RGB size=256x256 at 0x1AE493CC148>,\n",
       " <PIL.JpegImagePlugin.JpegImageFile image mode=RGB size=256x256 at 0x1AE493CC488>,\n",
       " <PIL.JpegImagePlugin.JpegImageFile image mode=RGB size=256x256 at 0x1AE493CC7C8>,\n",
       " <PIL.JpegImagePlugin.JpegImageFile image mode=RGB size=256x256 at 0x1AE493CCB08>,\n",
       " <PIL.JpegImagePlugin.JpegImageFile image mode=RGB size=256x256 at 0x1AE493CCE48>,\n",
       " <PIL.JpegImagePlugin.JpegImageFile image mode=RGB size=256x256 at 0x1AE493D21C8>,\n",
       " <PIL.JpegImagePlugin.JpegImageFile image mode=RGB size=256x256 at 0x1AE493D2508>,\n",
       " <PIL.JpegImagePlugin.JpegImageFile image mode=RGB size=256x256 at 0x1AE493D2848>,\n",
       " <PIL.JpegImagePlugin.JpegImageFile image mode=RGB size=256x256 at 0x1AE493D2B88>,\n",
       " <PIL.JpegImagePlugin.JpegImageFile image mode=RGB size=256x256 at 0x1AE493D2EC8>,\n",
       " <PIL.JpegImagePlugin.JpegImageFile image mode=RGB size=256x256 at 0x1AE493D5248>,\n",
       " <PIL.JpegImagePlugin.JpegImageFile image mode=RGB size=256x256 at 0x1AE493D5588>,\n",
       " <PIL.JpegImagePlugin.JpegImageFile image mode=RGB size=256x256 at 0x1AE493D58C8>,\n",
       " <PIL.JpegImagePlugin.JpegImageFile image mode=RGB size=256x256 at 0x1AE493D5C08>,\n",
       " <PIL.JpegImagePlugin.JpegImageFile image mode=RGB size=256x256 at 0x1AE493D5F48>,\n",
       " <PIL.JpegImagePlugin.JpegImageFile image mode=RGB size=256x256 at 0x1AE493DB2C8>,\n",
       " <PIL.JpegImagePlugin.JpegImageFile image mode=RGB size=256x256 at 0x1AE493DB608>,\n",
       " <PIL.JpegImagePlugin.JpegImageFile image mode=RGB size=256x256 at 0x1AE493DB948>,\n",
       " <PIL.JpegImagePlugin.JpegImageFile image mode=RGB size=256x256 at 0x1AE493DBC88>,\n",
       " <PIL.JpegImagePlugin.JpegImageFile image mode=RGB size=256x256 at 0x1AE493DBFC8>,\n",
       " <PIL.JpegImagePlugin.JpegImageFile image mode=RGB size=256x256 at 0x1AE493DF348>,\n",
       " <PIL.JpegImagePlugin.JpegImageFile image mode=RGB size=256x256 at 0x1AE493DF688>,\n",
       " <PIL.JpegImagePlugin.JpegImageFile image mode=RGB size=256x256 at 0x1AE493DF9C8>,\n",
       " <PIL.JpegImagePlugin.JpegImageFile image mode=RGB size=256x256 at 0x1AE493DFD08>,\n",
       " <PIL.JpegImagePlugin.JpegImageFile image mode=RGB size=256x256 at 0x1AE493E3088>,\n",
       " <PIL.JpegImagePlugin.JpegImageFile image mode=RGB size=256x256 at 0x1AE493E33C8>,\n",
       " <PIL.JpegImagePlugin.JpegImageFile image mode=RGB size=256x256 at 0x1AE493E3708>,\n",
       " <PIL.JpegImagePlugin.JpegImageFile image mode=RGB size=256x256 at 0x1AE493E3A48>,\n",
       " <PIL.JpegImagePlugin.JpegImageFile image mode=RGB size=256x256 at 0x1AE493E3D88>,\n",
       " <PIL.JpegImagePlugin.JpegImageFile image mode=RGB size=256x256 at 0x1AE493E8108>,\n",
       " <PIL.JpegImagePlugin.JpegImageFile image mode=RGB size=256x256 at 0x1AE493E8448>,\n",
       " <PIL.JpegImagePlugin.JpegImageFile image mode=RGB size=256x256 at 0x1AE493E8788>,\n",
       " <PIL.JpegImagePlugin.JpegImageFile image mode=RGB size=256x256 at 0x1AE493E8AC8>,\n",
       " <PIL.JpegImagePlugin.JpegImageFile image mode=RGB size=256x256 at 0x1AE493E8E08>,\n",
       " <PIL.JpegImagePlugin.JpegImageFile image mode=RGB size=256x256 at 0x1AE493EC188>,\n",
       " <PIL.JpegImagePlugin.JpegImageFile image mode=RGB size=256x256 at 0x1AE493EC4C8>,\n",
       " <PIL.JpegImagePlugin.JpegImageFile image mode=RGB size=256x256 at 0x1AE493EC808>,\n",
       " <PIL.JpegImagePlugin.JpegImageFile image mode=RGB size=256x256 at 0x1AE493ECB48>,\n",
       " <PIL.JpegImagePlugin.JpegImageFile image mode=RGB size=256x256 at 0x1AE493ECE88>,\n",
       " <PIL.JpegImagePlugin.JpegImageFile image mode=RGB size=256x256 at 0x1AE493F2208>,\n",
       " <PIL.JpegImagePlugin.JpegImageFile image mode=RGB size=256x256 at 0x1AE493F2548>,\n",
       " <PIL.JpegImagePlugin.JpegImageFile image mode=RGB size=256x256 at 0x1AE493F2888>,\n",
       " <PIL.JpegImagePlugin.JpegImageFile image mode=RGB size=256x256 at 0x1AE493F2BC8>,\n",
       " <PIL.JpegImagePlugin.JpegImageFile image mode=RGB size=256x256 at 0x1AE493F2F08>,\n",
       " <PIL.JpegImagePlugin.JpegImageFile image mode=RGB size=256x256 at 0x1AE493F8288>,\n",
       " <PIL.JpegImagePlugin.JpegImageFile image mode=RGB size=256x256 at 0x1AE493F85C8>,\n",
       " <PIL.JpegImagePlugin.JpegImageFile image mode=RGB size=256x256 at 0x1AE493F8908>,\n",
       " <PIL.JpegImagePlugin.JpegImageFile image mode=RGB size=256x256 at 0x1AE493F8C48>,\n",
       " <PIL.JpegImagePlugin.JpegImageFile image mode=RGB size=256x256 at 0x1AE493F8F88>,\n",
       " <PIL.JpegImagePlugin.JpegImageFile image mode=RGB size=256x256 at 0x1AE493FC308>,\n",
       " <PIL.JpegImagePlugin.JpegImageFile image mode=RGB size=256x256 at 0x1AE493FC648>,\n",
       " <PIL.JpegImagePlugin.JpegImageFile image mode=RGB size=256x256 at 0x1AE493FC988>,\n",
       " <PIL.JpegImagePlugin.JpegImageFile image mode=RGB size=256x256 at 0x1AE493FCCC8>]"
      ]
     },
     "execution_count": 63,
     "metadata": {},
     "output_type": "execute_result"
    }
   ],
   "source": [
    "Tomato___Bacterial_spot = preproess_1('valid_set/Tomato___Bacterial_spot/*')\n",
    "Tomato___Bacterial_spot"
   ]
  },
  {
   "cell_type": "code",
   "execution_count": 64,
   "metadata": {},
   "outputs": [],
   "source": [
    "Tomato___Bacterial_spot_resized = resizeit(Tomato___Bacterial_spot)\n",
    "Tomato___Early_blight_resized = resizeit(Tomato___Early_blight)\n",
    "Tomato___healthy_resized = resizeit(Tomato___healthy)\n",
    "Tomato___Late_blight_resized = resizeit(Tomato___Late_blight)\n",
    "Tomato___Leaf_Mold_resized = resizeit(Tomato___Leaf_Mold)\n",
    "Tomato___Septoria_leaf_spot_resized = resizeit(Tomato___Septoria_leaf_spot)\n",
    "Tomato___Spider_mites_Two_spotted_spider_mite_resized = resizeit(Tomato___Spider_mites_Two_spotted_spider_mite)\n",
    "Tomato___Target_Spot_resized = resizeit(Tomato___Target_Spot)\n",
    "Tomato___Tomato_mosaic_virus_resized = resizeit(Tomato___Tomato_mosaic_virus)\n",
    "Tomato___Tomato_Yellow_Leaf_Curl_Virus_resized = resizeit(Tomato___Tomato_Yellow_Leaf_Curl_Virus)"
   ]
  },
  {
   "cell_type": "code",
   "execution_count": 65,
   "metadata": {},
   "outputs": [
    {
     "data": {
      "text/plain": [
       "['TestingData/Tomato___Bacterial_spot/',\n",
       " 'TestingData/Tomato___Early_blight/',\n",
       " 'TestingData/Tomato___healthy/',\n",
       " 'TestingData/Tomato___Late_blight/',\n",
       " 'TestingData/Tomato___Leaf_Mold/',\n",
       " 'TestingData/Tomato___Septoria_leaf_spot/',\n",
       " 'TestingData/Tomato___Spider_mites Two-spotted_spider_mite/',\n",
       " 'TestingData/Tomato___Target_Spot/',\n",
       " 'TestingData/Tomato___Tomato_mosaic_virus/',\n",
       " 'TestingData/Tomato___Tomato_Yellow_Leaf_Curl_Virus/']"
      ]
     },
     "execution_count": 65,
     "metadata": {},
     "output_type": "execute_result"
    }
   ],
   "source": [
    "test__img_new_resize"
   ]
  },
  {
   "cell_type": "code",
   "execution_count": 67,
   "metadata": {},
   "outputs": [],
   "source": [
    "resizetopass = [Tomato___Bacterial_spot_resized,\n",
    "Tomato___Early_blight_resized,\n",
    "Tomato___healthy_resized,\n",
    "Tomato___Late_blight_resized,\n",
    "Tomato___Leaf_Mold_resized,\n",
    "Tomato___Septoria_leaf_spot_resized,\n",
    "Tomato___Spider_mites_Two_spotted_spider_mite_resized,\n",
    "Tomato___Target_Spot_resized,\n",
    "Tomato___Tomato_mosaic_virus_resized,\n",
    "Tomato___Tomato_Yellow_Leaf_Curl_Virus_resized]"
   ]
  },
  {
   "cell_type": "code",
   "execution_count": 68,
   "metadata": {},
   "outputs": [],
   "source": [
    "for i,j in zip(resizetopass,test__img_new_resize):\n",
    "    finalsave(i,j)"
   ]
  },
  {
   "cell_type": "markdown",
   "metadata": {},
   "source": [
    "## Validation Data"
   ]
  },
  {
   "cell_type": "code",
   "execution_count": 69,
   "metadata": {},
   "outputs": [],
   "source": [
    "os.mkdir('ValditaionDataset')"
   ]
  },
  {
   "cell_type": "code",
   "execution_count": 71,
   "metadata": {},
   "outputs": [],
   "source": [
    "list1 = os.listdir('TrainingData/Tomato___Bacterial_spot/')\n",
    "list2 = os.listdir('TestingData/Tomato___Early_blight/')\n",
    "list3 = os.listdir('TrainingData/Tomato___Leaf_Mold/')\n",
    "list4 = os.listdir('TestingData/Tomato___Late_blight/')\n",
    "list5 = os.listdir('TrainingData/Tomato___Septoria_leaf_spot/')\n",
    "list6 = os.listdir('TestingData/Tomato___Spider_mites Two-spotted_spider_mite/')\n",
    "list7 = os.listdir('TrainingData/Tomato___Target_Spot/')\n",
    "list8 = os.listdir('TestingData/Tomato___Tomato_Yellow_Leaf_Curl_Virus/')"
   ]
  },
  {
   "cell_type": "code",
   "execution_count": 72,
   "metadata": {},
   "outputs": [],
   "source": [
    "list1 = os.listdir('TrainingData/Tomato___Bacterial_spot/')\n",
    "list2 = os.listdir('TestingData/Tomato___Early_blight/')\n",
    "list3 = os.listdir('TrainingData/Tomato___Leaf_Mold/')\n",
    "list4 = os.listdir('TestingData/Tomato___Late_blight/')\n",
    "list5 = os.listdir('TrainingData/Tomato___Septoria_leaf_spot/')\n",
    "list6 = os.listdir('TestingData/Tomato___Spider_mites Two-spotted_spider_mite/')\n",
    "list7 = os.listdir('TrainingData/Tomato___Target_Spot/')\n",
    "list8 = os.listdir('TestingData/Tomato___healthy/')"
   ]
  },
  {
   "cell_type": "code",
   "execution_count": 76,
   "metadata": {},
   "outputs": [],
   "source": [
    "list1 = list1[1:5]\n",
    "list2 = list2[6:11]\n",
    "list3 = list3[12:14]\n",
    "list4 = list4[14:16]\n",
    "list5 = list5[17:19]\n",
    "list6 = list6[18:21]\n",
    "list7 = list7[25:28]\n",
    "list8 = list8[29:32]"
   ]
  },
  {
   "cell_type": "raw",
   "metadata": {},
   "source": [
    "lists = [list1,list2,list3,list4,list5,list6,list7,list8]\n",
    "for i in lists:\n",
    "    for j in i:\n",
    "        shutil.copy(j,'ValditaionDataset')"
   ]
  },
  {
   "cell_type": "code",
   "execution_count": null,
   "metadata": {},
   "outputs": [],
   "source": []
  }
 ],
 "metadata": {
  "kernelspec": {
   "display_name": "Python 3",
   "language": "python",
   "name": "python3"
  },
  "language_info": {
   "codemirror_mode": {
    "name": "ipython",
    "version": 3
   },
   "file_extension": ".py",
   "mimetype": "text/x-python",
   "name": "python",
   "nbconvert_exporter": "python",
   "pygments_lexer": "ipython3",
   "version": "3.7.7"
  }
 },
 "nbformat": 4,
 "nbformat_minor": 4
}
